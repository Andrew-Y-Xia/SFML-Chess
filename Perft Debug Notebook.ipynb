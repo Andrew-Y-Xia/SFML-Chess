{
 "cells": [
  {
   "cell_type": "code",
   "execution_count": 41,
   "metadata": {},
   "outputs": [],
   "source": [
    "from collections import defaultdict"
   ]
  },
  {
   "cell_type": "code",
   "execution_count": 88,
   "metadata": {},
   "outputs": [],
   "source": [
    "def i():\n",
    "    return '0'"
   ]
  },
  {
   "cell_type": "code",
   "execution_count": 252,
   "metadata": {},
   "outputs": [],
   "source": [
    "cmp1 = \"\"\"f4f3: 1\n",
    "d5d4: 1\n",
    "c7c6: 1\n",
    "c7c5: 1\n",
    "f4g3: 1\n",
    "h5h1: 1\n",
    "h5h2: 1\n",
    "h5h3: 1\n",
    "h5h4: 1\n",
    "h5h6: 1\n",
    "h5h7: 1\n",
    "h5h8: 1\n",
    "g5h6: 1\n",
    "g5h4: 1\n",
    "g5g6: 1\n",
    "g5f6: 1\"\"\"\n",
    "\n",
    "cmp2 = \"\"\"f4g3: 1\n",
    "f4f3: 1\n",
    "h5h4: 1\n",
    "h5h3: 1\n",
    "h5h2: 1\n",
    "h5h1: 1\n",
    "h5h6: 1\n",
    "h5h7: 1\n",
    "h5h8: 1\n",
    "g5h4: 1\n",
    "g5h6: 1\n",
    "g5g6: 1\n",
    "g5f6: 1\n",
    "d5d4: 1\n",
    "c7c5: 1\n",
    "c7c6: 1\"\"\""
   ]
  },
  {
   "cell_type": "code",
   "execution_count": 253,
   "metadata": {},
   "outputs": [],
   "source": [
    "dict1 = defaultdict(i, (x.split(' ') for x in cmp1.split('\\n')))\n",
    "dict2 = defaultdict(i, (x.split(' ') for x in cmp2.split('\\n')))"
   ]
  },
  {
   "cell_type": "code",
   "execution_count": 254,
   "metadata": {},
   "outputs": [],
   "source": [
    "for key, value in dict1.items():\n",
    "    if dict2[key] != value:\n",
    "        print(\"Diff: \" + key + ' ' + value + \" | \" + key + ' ' + dict2[key])"
   ]
  },
  {
   "cell_type": "code",
   "execution_count": 255,
   "metadata": {},
   "outputs": [],
   "source": [
    "for key, value in dict2.items():\n",
    "    if dict1[key] != value:\n",
    "        print(\"Diff: \" + key + ' ' + value + \" | \" + key + ' ' + dict1[key])"
   ]
  },
  {
   "cell_type": "code",
   "execution_count": null,
   "metadata": {},
   "outputs": [],
   "source": []
  },
  {
   "cell_type": "code",
   "execution_count": null,
   "metadata": {},
   "outputs": [],
   "source": []
  }
 ],
 "metadata": {
  "kernelspec": {
   "display_name": "Python 3",
   "language": "python",
   "name": "python3"
  },
  "language_info": {
   "codemirror_mode": {
    "name": "ipython",
    "version": 3
   },
   "file_extension": ".py",
   "mimetype": "text/x-python",
   "name": "python",
   "nbconvert_exporter": "python",
   "pygments_lexer": "ipython3",
   "version": "3.8.5"
  }
 },
 "nbformat": 4,
 "nbformat_minor": 4
}
