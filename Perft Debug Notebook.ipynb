{
 "cells": [
  {
   "cell_type": "code",
   "execution_count": 41,
   "metadata": {},
   "outputs": [],
   "source": [
    "from collections import defaultdict"
   ]
  },
  {
   "cell_type": "code",
   "execution_count": 88,
   "metadata": {},
   "outputs": [],
   "source": [
    "def i():\n",
    "    return '0'"
   ]
  },
  {
   "cell_type": "code",
   "execution_count": 118,
   "metadata": {},
   "outputs": [],
   "source": [
    "cmp1 = \"\"\"a2a3: 181046\n",
    "b2b3: 215255\n",
    "c2c3: 222861\n",
    "d2d3: 328511\n",
    "e2e3: 402988\n",
    "f2f3: 178889\n",
    "g2g3: 217210\n",
    "h2h3: 181044\n",
    "a2a4: 217832\n",
    "b2b4: 216145\n",
    "c2c4: 240082\n",
    "d2d4: 361790\n",
    "e2e4: 405385\n",
    "f2f4: 198473\n",
    "g2g4: 214048\n",
    "h2h4: 218829\n",
    "b1a3: 198572\n",
    "b1c3: 234656\n",
    "g1f3: 233491\n",
    "g1h3: 198502\"\"\"\n",
    "\n",
    "cmp2 = \"\"\"g1h3: 198502\n",
    "g1f3: 233491\n",
    "b1c3: 234656\n",
    "b1a3: 198572\n",
    "h2h4: 218829\n",
    "h2h3: 181044\n",
    "g2g4: 214048\n",
    "g2g3: 217210\n",
    "f2f4: 198475\n",
    "f2f3: 178891\n",
    "e2e4: 405385\n",
    "e2e3: 402988\n",
    "d2d4: 361794\n",
    "d2d3: 328515\n",
    "c2c4: 240082\n",
    "c2c3: 222861\n",
    "b2b4: 216145\n",
    "b2b3: 215255\n",
    "a2a4: 217832\n",
    "a2a3: 181046\"\"\""
   ]
  },
  {
   "cell_type": "code",
   "execution_count": 119,
   "metadata": {},
   "outputs": [],
   "source": [
    "dict1 = defaultdict(i, (x.split(' ') for x in cmp1.split('\\n')))\n",
    "dict2 = defaultdict(i, (x.split(' ') for x in cmp2.split('\\n')))"
   ]
  },
  {
   "cell_type": "code",
   "execution_count": 120,
   "metadata": {},
   "outputs": [
    {
     "name": "stdout",
     "output_type": "stream",
     "text": [
      "Diff: d2d3: 328511 | d2d3: 328515\n",
      "Diff: f2f3: 178889 | f2f3: 178891\n",
      "Diff: d2d4: 361790 | d2d4: 361794\n",
      "Diff: f2f4: 198473 | f2f4: 198475\n"
     ]
    }
   ],
   "source": [
    "for key, value in dict1.items():\n",
    "    if dict2[key] != value:\n",
    "        print(\"Diff: \" + key + ' ' + value + \" | \" + key + ' ' + dict2[key])"
   ]
  },
  {
   "cell_type": "code",
   "execution_count": 121,
   "metadata": {},
   "outputs": [
    {
     "name": "stdout",
     "output_type": "stream",
     "text": [
      "Diff: f2f4: 198475 | f2f4: 198473\n",
      "Diff: f2f3: 178891 | f2f3: 178889\n",
      "Diff: d2d4: 361794 | d2d4: 361790\n",
      "Diff: d2d3: 328515 | d2d3: 328511\n"
     ]
    }
   ],
   "source": [
    "for key, value in dict2.items():\n",
    "    if dict1[key] != value:\n",
    "        print(\"Diff: \" + key + ' ' + value + \" | \" + key + ' ' + dict1[key])"
   ]
  },
  {
   "cell_type": "code",
   "execution_count": null,
   "metadata": {},
   "outputs": [],
   "source": []
  },
  {
   "cell_type": "code",
   "execution_count": null,
   "metadata": {},
   "outputs": [],
   "source": []
  }
 ],
 "metadata": {
  "kernelspec": {
   "display_name": "Python 3",
   "language": "python",
   "name": "python3"
  },
  "language_info": {
   "codemirror_mode": {
    "name": "ipython",
    "version": 3
   },
   "file_extension": ".py",
   "mimetype": "text/x-python",
   "name": "python",
   "nbconvert_exporter": "python",
   "pygments_lexer": "ipython3",
   "version": "3.8.5"
  }
 },
 "nbformat": 4,
 "nbformat_minor": 4
}
