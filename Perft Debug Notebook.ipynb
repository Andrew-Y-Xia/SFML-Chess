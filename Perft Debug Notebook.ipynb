{
 "cells": [
  {
   "cell_type": "code",
   "execution_count": 41,
   "metadata": {},
   "outputs": [],
   "source": [
    "from collections import defaultdict"
   ]
  },
  {
   "cell_type": "code",
   "execution_count": 88,
   "metadata": {},
   "outputs": [],
   "source": [
    "def i():\n",
    "    return '0'"
   ]
  },
  {
   "cell_type": "code",
   "execution_count": 266,
   "metadata": {},
   "outputs": [],
   "source": [
    "cmp1 = \"\"\"e2e3: 15\n",
    "g2g3: 4\n",
    "a5a6: 15\n",
    "e2e4: 16\n",
    "g2g4: 17\n",
    "b4b1: 16\n",
    "b4b2: 16\n",
    "b4b3: 15\n",
    "b4a4: 15\n",
    "b4c4: 15\n",
    "b4d4: 15\n",
    "b4e4: 15\n",
    "b4f4: 2\n",
    "a5a4: 15\"\"\"\n",
    "\n",
    "cmp2 = \"\"\"g2g4: 17\n",
    "g2g3: 5\n",
    "e2e4: 16\n",
    "e2e3: 17\n",
    "b4c4: 15\n",
    "b4d4: 15\n",
    "b4e4: 15\n",
    "b4f4: 2\n",
    "b4b3: 15\n",
    "b4b2: 16\n",
    "b4b1: 16\n",
    "b4a4: 15\n",
    "a5a4: 15\n",
    "a5a6: 15\"\"\""
   ]
  },
  {
   "cell_type": "code",
   "execution_count": 267,
   "metadata": {},
   "outputs": [],
   "source": [
    "dict1 = defaultdict(i, (x.split(' ') for x in cmp1.split('\\n')))\n",
    "dict2 = defaultdict(i, (x.split(' ') for x in cmp2.split('\\n')))"
   ]
  },
  {
   "cell_type": "code",
   "execution_count": 268,
   "metadata": {},
   "outputs": [
    {
     "name": "stdout",
     "output_type": "stream",
     "text": [
      "Diff: e2e3: 15 | e2e3: 17\n",
      "Diff: g2g3: 4 | g2g3: 5\n"
     ]
    }
   ],
   "source": [
    "for key, value in dict1.items():\n",
    "    if dict2[key] != value:\n",
    "        print(\"Diff: \" + key + ' ' + value + \" | \" + key + ' ' + dict2[key])"
   ]
  },
  {
   "cell_type": "code",
   "execution_count": 269,
   "metadata": {},
   "outputs": [
    {
     "name": "stdout",
     "output_type": "stream",
     "text": [
      "Diff: g2g3: 5 | g2g3: 4\n",
      "Diff: e2e3: 17 | e2e3: 15\n"
     ]
    }
   ],
   "source": [
    "for key, value in dict2.items():\n",
    "    if dict1[key] != value:\n",
    "        print(\"Diff: \" + key + ' ' + value + \" | \" + key + ' ' + dict1[key])"
   ]
  },
  {
   "cell_type": "code",
   "execution_count": null,
   "metadata": {},
   "outputs": [],
   "source": []
  },
  {
   "cell_type": "code",
   "execution_count": null,
   "metadata": {},
   "outputs": [],
   "source": []
  }
 ],
 "metadata": {
  "kernelspec": {
   "display_name": "Python 3",
   "language": "python",
   "name": "python3"
  },
  "language_info": {
   "codemirror_mode": {
    "name": "ipython",
    "version": 3
   },
   "file_extension": ".py",
   "mimetype": "text/x-python",
   "name": "python",
   "nbconvert_exporter": "python",
   "pygments_lexer": "ipython3",
   "version": "3.8.5"
  }
 },
 "nbformat": 4,
 "nbformat_minor": 4
}
