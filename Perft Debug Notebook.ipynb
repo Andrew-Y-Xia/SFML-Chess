{
 "cells": [
  {
   "cell_type": "code",
   "execution_count": 41,
   "metadata": {},
   "outputs": [],
   "source": [
    "from collections import defaultdict"
   ]
  },
  {
   "cell_type": "code",
   "execution_count": 88,
   "metadata": {},
   "outputs": [],
   "source": [
    "def i():\n",
    "    return '0'"
   ]
  },
  {
   "cell_type": "code",
   "execution_count": 184,
   "metadata": {},
   "outputs": [],
   "source": [
    "cmp1 = \"\"\"c7c6: 1\n",
    "d7d6: 1\n",
    "f7f6: 1\n",
    "d7d5: 1\n",
    "f7f5: 1\n",
    "b2a1q: 1\n",
    "b2a1r: 1\n",
    "b2a1b: 1\n",
    "b2a1n: 1\n",
    "b2b1q: 1\n",
    "b2b1r: 1\n",
    "b2b1b: 1\n",
    "b2b1n: 1\n",
    "g7h6: 1\n",
    "a5b3: 1\n",
    "a5c4: 1\n",
    "a5c6: 1\n",
    "g8f6: 1\n",
    "g8h6: 1\n",
    "b6c5: 1\n",
    "b6a7: 1\n",
    "g6e4: 1\n",
    "g6f5: 1\n",
    "g6h5: 1\n",
    "a8a7: 1\n",
    "a8b8: 1\n",
    "a8c8: 1\n",
    "a8d8: 1\n",
    "a8e8: 1\n",
    "a8f8: 1\n",
    "a3a2: 1\n",
    "a3b3: 1\n",
    "a3c3: 1\n",
    "a3d3: 1\n",
    "a3e3: 1\n",
    "a3f3: 1\n",
    "a3g3: 1\n",
    "a3h3: 1\n",
    "a3a4: 1\n",
    "a3b4: 1\n",
    "e7f8: 1\n",
    "e7e8: 1\n",
    "e7f6: 1\n",
    "e7d8: 1\"\"\"\n",
    "\n",
    "cmp2 = \"\"\"b2a1: 1\n",
    "b2a1: 1\n",
    "b2a1: 1\n",
    "b2a1: 1\n",
    "b2b1: 1\n",
    "b2b1: 1\n",
    "b2b1: 1\n",
    "b2b1: 1\n",
    "a3b3: 1\n",
    "a3c3: 1\n",
    "a3d3: 1\n",
    "a3e3: 1\n",
    "a3f3: 1\n",
    "a3g3: 1\n",
    "a3h3: 1\n",
    "a3a2: 1\n",
    "a3a4: 1\n",
    "a3b4: 1\n",
    "a5c4: 1\n",
    "a5b3: 1\n",
    "a5c6: 1\n",
    "g6f5: 1\n",
    "g6e4: 1\n",
    "g6h5: 1\n",
    "b6c5: 1\n",
    "b6a7: 1\n",
    "g7h6: 1\n",
    "f7f5: 1\n",
    "f7f6: 1\n",
    "e7f8: 1\n",
    "e7e8: 1\n",
    "e7d8: 1\n",
    "d7d5: 1\n",
    "d7d6: 1\n",
    "c7c6: 1\n",
    "g8h6: 1\n",
    "g8f6: 1\n",
    "a8b8: 1\n",
    "a8c8: 1\n",
    "a8d8: 1\n",
    "a8e8: 1\n",
    "a8f8: 1\n",
    "a8a7: 1\"\"\""
   ]
  },
  {
   "cell_type": "code",
   "execution_count": 185,
   "metadata": {},
   "outputs": [],
   "source": [
    "dict1 = defaultdict(i, (x.split(' ') for x in cmp1.split('\\n')))\n",
    "dict2 = defaultdict(i, (x.split(' ') for x in cmp2.split('\\n')))"
   ]
  },
  {
   "cell_type": "code",
   "execution_count": 186,
   "metadata": {},
   "outputs": [
    {
     "name": "stdout",
     "output_type": "stream",
     "text": [
      "Diff: b2a1q: 1 | b2a1q: 0\n",
      "Diff: b2a1r: 1 | b2a1r: 0\n",
      "Diff: b2a1b: 1 | b2a1b: 0\n",
      "Diff: b2a1n: 1 | b2a1n: 0\n",
      "Diff: b2b1q: 1 | b2b1q: 0\n",
      "Diff: b2b1r: 1 | b2b1r: 0\n",
      "Diff: b2b1b: 1 | b2b1b: 0\n",
      "Diff: b2b1n: 1 | b2b1n: 0\n",
      "Diff: e7f6: 1 | e7f6: 0\n"
     ]
    }
   ],
   "source": [
    "for key, value in dict1.items():\n",
    "    if dict2[key] != value:\n",
    "        print(\"Diff: \" + key + ' ' + value + \" | \" + key + ' ' + dict2[key])"
   ]
  },
  {
   "cell_type": "code",
   "execution_count": 187,
   "metadata": {},
   "outputs": [
    {
     "name": "stdout",
     "output_type": "stream",
     "text": [
      "Diff: b2a1: 1 | b2a1: 0\n",
      "Diff: b2b1: 1 | b2b1: 0\n",
      "Diff: b2a1q: 0 | b2a1q: 1\n",
      "Diff: b2a1r: 0 | b2a1r: 1\n",
      "Diff: b2a1b: 0 | b2a1b: 1\n",
      "Diff: b2a1n: 0 | b2a1n: 1\n",
      "Diff: b2b1q: 0 | b2b1q: 1\n",
      "Diff: b2b1r: 0 | b2b1r: 1\n",
      "Diff: b2b1b: 0 | b2b1b: 1\n",
      "Diff: b2b1n: 0 | b2b1n: 1\n",
      "Diff: e7f6: 0 | e7f6: 1\n"
     ]
    }
   ],
   "source": [
    "for key, value in dict2.items():\n",
    "    if dict1[key] != value:\n",
    "        print(\"Diff: \" + key + ' ' + value + \" | \" + key + ' ' + dict1[key])"
   ]
  },
  {
   "cell_type": "code",
   "execution_count": null,
   "metadata": {},
   "outputs": [],
   "source": []
  },
  {
   "cell_type": "code",
   "execution_count": null,
   "metadata": {},
   "outputs": [],
   "source": []
  }
 ],
 "metadata": {
  "kernelspec": {
   "display_name": "Python 3",
   "language": "python",
   "name": "python3"
  },
  "language_info": {
   "codemirror_mode": {
    "name": "ipython",
    "version": 3
   },
   "file_extension": ".py",
   "mimetype": "text/x-python",
   "name": "python",
   "nbconvert_exporter": "python",
   "pygments_lexer": "ipython3",
   "version": "3.8.5"
  }
 },
 "nbformat": 4,
 "nbformat_minor": 4
}
